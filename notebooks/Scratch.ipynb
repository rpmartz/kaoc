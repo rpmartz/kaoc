{
 "cells": [
  {
   "cell_type": "code",
   "execution_count": 3,
   "metadata": {
    "collapsed": true,
    "ExecuteTime": {
     "end_time": "2023-12-16T01:16:29.030482Z",
     "start_time": "2023-12-16T01:16:28.446497Z"
    }
   },
   "outputs": [
    {
     "name": "stdout",
     "output_type": "stream",
     "text": [
      "RHQ\n",
      "BLP\n",
      "DRK\n"
     ]
    }
   ],
   "source": [
    "val line = \"RHQ = (BLP, DRK)\"\n",
    "\n",
    "val re = Regex(\"\\\\w+\")\n",
    "\n",
    "for(match in re.findAll(line)) {\n",
    "    println(match.value)\n",
    "}"
   ]
  },
  {
   "cell_type": "code",
   "execution_count": 4,
   "outputs": [],
   "source": [
    "fun words(line: String): List<String> {\n",
    "    val re = Regex(\"\\\\w+\")\n",
    "    val matches = re.findAll(line)\n",
    "\n",
    "    return matches.map { it.value }.toList()\n",
    "}\n"
   ],
   "metadata": {
    "collapsed": false,
    "ExecuteTime": {
     "end_time": "2023-12-16T01:19:19.377371Z",
     "start_time": "2023-12-16T01:19:18.546793Z"
    }
   }
  },
  {
   "cell_type": "code",
   "execution_count": 5,
   "outputs": [
    {
     "data": {
      "text/plain": "[RHQ, BLP, DRK]"
     },
     "execution_count": 5,
     "metadata": {},
     "output_type": "execute_result"
    }
   ],
   "source": [
    "words(line)"
   ],
   "metadata": {
    "collapsed": false,
    "ExecuteTime": {
     "end_time": "2023-12-16T01:19:28.351571Z",
     "start_time": "2023-12-16T01:19:27.990668Z"
    }
   }
  }
 ],
 "metadata": {
  "kernelspec": {
   "display_name": "Kotlin",
   "language": "kotlin",
   "name": "kotlin"
  },
  "language_info": {
   "name": "kotlin",
   "version": "1.9.0",
   "mimetype": "text/x-kotlin",
   "file_extension": ".kt",
   "pygments_lexer": "kotlin",
   "codemirror_mode": "text/x-kotlin",
   "nbconvert_exporter": ""
  }
 },
 "nbformat": 4,
 "nbformat_minor": 0
}
